{
 "cells": [
  {
   "cell_type": "code",
   "execution_count": 1,
   "id": "2e04f23f-8478-4cd8-a4cb-3bd50e27d630",
   "metadata": {},
   "outputs": [
    {
     "name": "stdout",
     "output_type": "stream",
     "text": [
      "\"test\"\n"
     ]
    },
    {
     "data": {
      "text/plain": [
       "\"test\""
      ]
     },
     "execution_count": 1,
     "metadata": {},
     "output_type": "execute_result"
    }
   ],
   "source": [
    "p \"test\""
   ]
  },
  {
   "cell_type": "code",
   "execution_count": null,
   "id": "a99f5d7b-b685-4bb1-889d-1fc8a49813a7",
   "metadata": {},
   "outputs": [],
   "source": []
  }
 ],
 "metadata": {
  "kernelspec": {
   "display_name": "Ruby 3 (iruby kernel)",
   "language": "ruby",
   "name": "ruby3"
  },
  "language_info": {
   "file_extension": ".rb",
   "mimetype": "application/x-ruby",
   "name": "ruby",
   "version": "3.0.2"
  }
 },
 "nbformat": 4,
 "nbformat_minor": 5
}
