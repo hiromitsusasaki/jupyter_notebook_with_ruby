{
 "cells": [
  {
   "cell_type": "code",
   "execution_count": 1,
   "id": "e417f0e4-dffd-4b79-97ff-5cf1a257d297",
   "metadata": {},
   "outputs": [
    {
     "name": "stdout",
     "output_type": "stream",
     "text": [
      "test\n"
     ]
    }
   ],
   "source": [
    "console.log(\"test\");"
   ]
  },
  {
   "cell_type": "code",
   "execution_count": null,
   "id": "75229f65-dc0c-46e3-adbb-53c1d7007cc1",
   "metadata": {},
   "outputs": [],
   "source": []
  }
 ],
 "metadata": {
  "kernelspec": {
   "display_name": "JavaScript",
   "language": "javascript",
   "name": "jslab"
  },
  "language_info": {
   "file_extension": ".js",
   "mimetype": "text/javascript",
   "name": "javascript",
   "version": ""
  }
 },
 "nbformat": 4,
 "nbformat_minor": 5
}
